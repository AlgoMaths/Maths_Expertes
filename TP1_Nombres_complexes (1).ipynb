{
  "nbformat": 4,
  "nbformat_minor": 0,
  "metadata": {
    "colab": {
      "name": "TP1_Nombres_complexes.ipynb",
      "provenance": []
    },
    "kernelspec": {
      "name": "python3",
      "display_name": "Python 3"
    },
    "language_info": {
      "name": "python"
    }
  },
  "cells": [
    {
      "cell_type": "markdown",
      "metadata": {
        "id": "dPi7IzrUNcih"
      },
      "source": [
        "# **TP n°1 - Nombres complexes et programmation Python** "
      ]
    },
    {
      "cell_type": "markdown",
      "metadata": {
        "id": "XUp9qKm0NzwM"
      },
      "source": [
        "## **Partie I : Découvertes de nouvelles instructions**\n",
        "\n",
        "> 1) Tester les instructions suivantes dans la console Python ci-dessous et noter le résultat obtenu sur votre document papier.\n",
        "\n",
        "<center><img src=https://drive.google.com/uc?id=1Uvqizuj0qoj4Ohxya-GfF2s1o1kHrmEq width=\"400\"></center>\n",
        "\n",
        "\n",
        "\n",
        "\n"
      ]
    },
    {
      "cell_type": "code",
      "metadata": {
        "id": "mDB_nGpE-Tth"
      },
      "source": [
        "#Console Python\n",
        "Z1=complex(3,5)\n",
        "\n"
      ],
      "execution_count": null,
      "outputs": []
    },
    {
      "cell_type": "markdown",
      "metadata": {
        "id": "N5FIsVkV_G89"
      },
      "source": [
        " 2) Quelles remarques peut-on faire ? Donner clairement la fonction précise de chaque instruction Python.\n",
        "\n",
        " 3) Vérifier les résultats obtenus à l'aide de la calculatrice Numworks. On pourra utiliser l'émulateur en ligne suivant : https://www.numworks.com/fr/simulateur/\n",
        "\n",
        "<center><img src=https://drive.google.com/uc?id=1Xc4cIsntrfvWmbZ06SRDNr69bLvT6IEC width=\"100\"></center>\n",
        "\n",
        "4) Retrouver par calcul les résultats précédents. On prendra soin de rédiger avec rigueur les étapes de calculs. \n",
        "\n",
        "5) Faire les exercices 1 à 6 page 18 et vérifier vos résultats à l'aide de la console ci-dessous puis à l'aide de la calculatrice Numworks.\n"
      ]
    },
    {
      "cell_type": "code",
      "metadata": {
        "id": "DI0zBjWsjhXJ"
      },
      "source": [
        "#Console Python\n"
      ],
      "execution_count": null,
      "outputs": []
    },
    {
      "cell_type": "markdown",
      "metadata": {
        "id": "l6xvWfrmjszv"
      },
      "source": [
        "## **Partie II : Solution d'un problème**\n",
        "\n",
        "<p align ='justify'>Soit $n$ un nombre entier compris entre $-10$ et $10$.\n",
        "On souhaite déterminer toutes les valeurs de $n$ afin que le nombre complexe $(3n+i)(-75+in)$ soit un réel pur.\n",
        "\n",
        ">1) Tester quelques valeurs de $n$.\n",
        "\n",
        "> 2) Compléter le programme ci-dessous afin que la fonction $solution$ renvoie bien la liste des entiers compris entre -10 et 10 répondant au problème.\n",
        "\n",
        "</p align> "
      ]
    },
    {
      "cell_type": "code",
      "metadata": {
        "id": "y9i5xB5JpzhM"
      },
      "source": [
        "#Console Python\n",
        "def solution():\n",
        "  L=[]\n",
        "  for N in range(-10,11):\n",
        "    Z1=complex(3*N,1)\n",
        "    Z2=\n",
        "    Z3=\n",
        "    if :\n",
        "      L.append(N)\n",
        "  return L\n"
      ],
      "execution_count": null,
      "outputs": []
    },
    {
      "cell_type": "code",
      "metadata": {
        "id": "T7VoiZvsrc1_"
      },
      "source": [
        "print(solution())"
      ],
      "execution_count": null,
      "outputs": []
    },
    {
      "cell_type": "markdown",
      "metadata": {
        "id": "rMKBGEK7yubu"
      },
      "source": [
        "> 3) Retrouver algébriquement le résultat donner par votre programme."
      ]
    }
  ]
}